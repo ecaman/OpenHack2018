{
 "cells": [
  {
   "cell_type": "markdown",
   "metadata": {
    "nbpresent": {
     "id": "d6f90fb1-3645-4b66-a07b-218c10d9fdba"
    }
   },
   "source": [
    "# Challenge 0"
   ]
  },
  {
   "cell_type": "code",
   "execution_count": 2,
   "metadata": {
    "nbpresent": {
     "id": "501b6e32-9aed-44c5-93bc-9276e36e8f28"
    }
   },
   "outputs": [
    {
     "name": "stdout",
     "output_type": "stream",
     "text": [
      "absl-py==0.5.0\n",
      "adal==1.1.0\n",
      "alabaster==0.7.10\n",
      "alembic==1.0.0\n",
      "anaconda-client==1.6.14\n",
      "anaconda-project==0.8.2\n",
      "appdirs==1.4.3\n",
      "applicationinsights==0.11.6\n",
      "asn1crypto==0.24.0\n",
      "astor==0.7.1\n",
      "astroid==1.6.3\n",
      "astropy==3.0.2\n",
      "async-generator==1.10\n",
      "attrs==18.1.0\n",
      "audioread==2.1.6\n",
      "autovizwidget==0.12.5\n",
      "azure==4.0.0\n",
      "azure-applicationinsights==0.1.0\n",
      "azure-batch==4.1.3\n",
      "azure-cognitiveservices-nspkg==2.0.0\n",
      "azure-cognitiveservices-vision-customvision==0.3.0\n",
      "azure-cognitiveservices-vision-nspkg==2.0.0\n",
      "azure-common==1.1.15\n",
      "azure-cosmosdb-nspkg==2.0.2\n",
      "azure-cosmosdb-table==1.0.5\n",
      "azure-datalake-store==0.0.31\n",
      "azure-eventgrid==1.2.0\n",
      "azure-graphrbac==0.40.0\n",
      "azure-keyvault==1.1.0\n",
      "azure-loganalytics==0.1.0\n",
      "azure-mgmt==4.0.0\n",
      "azure-mgmt-advisor==1.0.1\n",
      "azure-mgmt-applicationinsights==0.1.1\n",
      "azure-mgmt-authorization==0.50.0\n",
      "azure-mgmt-batch==5.0.1\n",
      "azure-mgmt-batchai==2.0.0\n",
      "azure-mgmt-billing==0.2.0\n",
      "azure-mgmt-cdn==3.0.0\n",
      "azure-mgmt-cognitiveservices==3.0.0\n",
      "azure-mgmt-commerce==1.0.1\n",
      "azure-mgmt-compute==4.1.0\n",
      "azure-mgmt-consumption==2.0.0\n",
      "azure-mgmt-containerinstance==1.1.0\n",
      "azure-mgmt-containerregistry==2.2.0\n",
      "azure-mgmt-containerservice==4.2.2\n",
      "azure-mgmt-cosmosdb==0.4.1\n",
      "azure-mgmt-datafactory==0.6.0\n",
      "azure-mgmt-datalake-analytics==0.6.0\n",
      "azure-mgmt-datalake-nspkg==2.0.0\n",
      "azure-mgmt-datalake-store==0.5.0\n",
      "azure-mgmt-datamigration==1.0.0\n",
      "azure-mgmt-devspaces==0.1.0\n",
      "azure-mgmt-devtestlabs==2.2.0\n",
      "azure-mgmt-dns==2.1.0\n",
      "azure-mgmt-eventgrid==1.0.0\n",
      "azure-mgmt-eventhub==2.1.0\n",
      "azure-mgmt-hanaonazure==0.1.1\n",
      "azure-mgmt-iotcentral==0.1.0\n",
      "azure-mgmt-iothub==0.5.0\n",
      "azure-mgmt-iothubprovisioningservices==0.2.0\n",
      "azure-mgmt-keyvault==1.1.0\n",
      "azure-mgmt-loganalytics==0.2.0\n",
      "azure-mgmt-logic==3.0.0\n",
      "azure-mgmt-machinelearningcompute==0.4.1\n",
      "azure-mgmt-managementgroups==0.1.0\n",
      "azure-mgmt-managementpartner==0.1.0\n",
      "azure-mgmt-maps==0.1.0\n",
      "azure-mgmt-marketplaceordering==0.1.0\n",
      "azure-mgmt-media==1.0.0rc2\n",
      "azure-mgmt-monitor==0.5.2\n",
      "azure-mgmt-msi==0.2.0\n",
      "azure-mgmt-network==2.2.1\n",
      "azure-mgmt-notificationhubs==2.0.0\n",
      "azure-mgmt-nspkg==2.0.0\n",
      "azure-mgmt-policyinsights==0.1.0\n",
      "azure-mgmt-powerbiembedded==2.0.0\n",
      "azure-mgmt-rdbms==1.3.0\n",
      "azure-mgmt-recoveryservices==0.3.0\n",
      "azure-mgmt-recoveryservicesbackup==0.3.0\n",
      "azure-mgmt-redis==5.0.0\n",
      "azure-mgmt-relay==0.1.0\n",
      "azure-mgmt-reservations==0.2.1\n",
      "azure-mgmt-resource==2.0.0\n",
      "azure-mgmt-scheduler==2.0.0\n",
      "azure-mgmt-search==2.0.0\n",
      "azure-mgmt-servicebus==0.5.1\n",
      "azure-mgmt-servicefabric==0.2.0\n",
      "azure-mgmt-signalr==0.1.1\n",
      "azure-mgmt-sql==0.9.1\n",
      "azure-mgmt-storage==2.0.0\n",
      "azure-mgmt-subscription==0.2.0\n",
      "azure-mgmt-trafficmanager==0.50.0\n",
      "azure-mgmt-web==0.35.0\n",
      "azure-nspkg==2.0.0\n",
      "azure-servicebus==0.21.1\n",
      "azure-servicefabric==6.3.0.0\n",
      "azure-servicemanagement-legacy==0.20.6\n",
      "azure-storage-blob==1.3.1\n",
      "azure-storage-common==1.3.0\n",
      "azure-storage-file==1.3.1\n",
      "azure-storage-nspkg==3.0.0\n",
      "azure-storage-queue==1.3.0\n",
      "Babel==2.5.3\n",
      "backcall==0.1.0\n",
      "backports.shutil-get-terminal-size==1.0.0\n",
      "beautifulsoup4==4.6.0\n",
      "bitarray==0.8.1\n",
      "bitstring==3.1.5\n",
      "bkcharts==0.2\n",
      "blaze==0.11.3\n",
      "bleach==2.1.3\n",
      "blobxfer==1.5.0\n",
      "bokeh==0.12.16\n",
      "boto==2.48.0\n",
      "boto3==1.9.5\n",
      "botocore==1.12.5\n",
      "Bottleneck==1.2.1\n",
      "bz2file==0.98\n",
      "cached-property==1.5.1\n",
      "catboost==0.10.0\n",
      "certifi==2018.8.24\n",
      "cffi==1.11.5\n",
      "chainer==4.4.0\n",
      "chainercv==0.10.0\n",
      "chainermn==1.3.0\n",
      "chainerrl==0.4.0\n",
      "chardet==3.0.4\n",
      "click==6.7\n",
      "cloudpickle==0.5.3\n",
      "clyent==1.2.2\n",
      "cntk-gpu==2.5.1\n",
      "color==0.1\n",
      "colorama==0.3.9\n",
      "colour==0.1.5\n",
      "configparser==3.5.0\n",
      "contextlib2==0.5.5\n",
      "cryptography==2.3.1\n",
      "cupy==4.4.1\n",
      "cycler==0.10.0\n",
      "Cython==0.28.2\n",
      "cytoolz==0.9.0.1\n",
      "dask==0.17.5\n",
      "databricks-cli==0.8.2\n",
      "datashape==0.5.4\n",
      "decorator==4.3.0\n",
      "distributed==1.21.8\n",
      "dlib==19.15.0\n",
      "docutils==0.14\n",
      "easydict==1.8\n",
      "entrypoints==0.2.3\n",
      "enum34==1.1.6\n",
      "et-xmlfile==1.0.1\n",
      "fastcache==1.0.2\n",
      "fasteners==0.14.1\n",
      "fastparquet==0.1.6\n",
      "fastrlock==0.4\n",
      "filelock==3.0.4\n",
      "flake8==3.5.0\n",
      "flaky==3.4.0\n",
      "Flask==1.0.2\n",
      "Flask-Cors==3.0.4\n",
      "future==0.16.0\n",
      "gast==0.2.0\n",
      "gensim==3.5.0\n",
      "gevent==1.3.0\n",
      "glob2==0.6\n",
      "gmpy2==2.0.8\n",
      "graphviz==0.8.4\n",
      "greenlet==0.4.13\n",
      "grpcio==1.15.0\n",
      "gym==0.10.5\n",
      "h2o==3.13.0.369\n",
      "h5py==2.7.1\n",
      "hdijupyterutils==0.12.5\n",
      "heapdict==1.0.0\n",
      "horovod==0.14.1\n",
      "html5lib==1.0.1\n",
      "hyperopt==0.1.1\n",
      "idna==2.6\n",
      "imageio==2.3.0\n",
      "imagesize==1.0.0\n",
      "importlib2==3.5.0.2\n",
      "imutils==0.5.1\n",
      "ipykernel==4.8.2\n",
      "ipython==6.4.0\n",
      "ipython-genutils==0.2.0\n",
      "ipywidgets==7.2.1\n",
      "isodate==0.6.0\n",
      "isort==4.3.4\n",
      "itsdangerous==0.24\n",
      "jdcal==1.4\n",
      "jedi==0.12.0\n",
      "Jinja2==2.10\n",
      "jmespath==0.9.3\n",
      "joblib==0.12.5\n",
      "jsonschema==2.6.0\n",
      "jupyter==1.0.0\n",
      "jupyter-client==5.2.3\n",
      "jupyter-console==5.2.0\n",
      "jupyter-core==4.4.0\n",
      "jupyterhub==0.9.3\n",
      "jupyterlab==0.34.10\n",
      "jupyterlab-launcher==0.13.1\n",
      "Keras==2.2.2\n",
      "Keras-Applications==1.0.4\n",
      "Keras-Preprocessing==1.0.2\n",
      "kiwisolver==1.0.1\n",
      "Lasagne==0.2.dev1\n",
      "lazy-object-proxy==1.3.1\n",
      "librosa==0.6.2\n",
      "lightgbm==2.1.2\n",
      "llvmlite==0.23.1\n",
      "locket==0.2.0\n",
      "lxml==4.2.1\n",
      "Mako==1.0.7\n",
      "Markdown==2.6.11\n",
      "MarkupSafe==1.0\n",
      "matplotlib==2.2.2\n",
      "mccabe==0.6.1\n",
      "mistune==0.8.3\n",
      "mkl-fft==1.0.4\n",
      "mkl-random==1.0.1\n",
      "mock==2.0.0\n",
      "monotonic==1.5\n",
      "more-itertools==4.1.0\n",
      "mpi4py==3.0.0\n",
      "mpmath==1.0.0\n",
      "msgpack==0.5.6\n",
      "msgpack-python==0.5.6\n",
      "msrest==0.5.5\n",
      "msrestazure==0.5.0\n",
      "multipledispatch==0.5.0\n",
      "mxnet==1.3.0\n",
      "mxnet-model-server==0.4\n",
      "nb-anacondacloud==1.4.0\n",
      "nb-conda==2.2.1\n",
      "nb-conda-kernels==2.1.0\n",
      "nbconvert==5.3.1\n",
      "nbformat==4.4.0\n",
      "nbpresent==3.0.2\n",
      "nbsphinx==0.3.5\n",
      "networkx==2.1\n",
      "nltk==3.3\n",
      "nose==1.3.7\n",
      "nose-parameterized==0.6.0\n",
      "notebook==5.5.0\n",
      "numba==0.38.0\n",
      "numexpr==2.6.5\n",
      "numpy==1.14.5\n",
      "numpydoc==0.8.0\n",
      "oauthlib==2.1.0\n",
      "odo==0.5.1\n",
      "olefile==0.45.1\n",
      "onnx==1.2.3\n",
      "onnx-chainer==1.2.2a3\n",
      "onnx-mxnet==0.4.2\n",
      "onnxmltools==1.2.2.129\n",
      "onnxruntime==0.1.2\n",
      "openpyxl==2.5.3\n",
      "packaging==17.1\n",
      "pamela==0.3.0\n",
      "pandas==0.23.0\n",
      "pandas-datareader==0.6.0\n",
      "pandocfilters==1.4.2\n",
      "parso==0.2.0\n",
      "partd==0.3.8\n",
      "path.py==11.0.1\n",
      "pathlib2==2.3.2\n",
      "patsy==0.5.0\n",
      "pbr==4.2.0\n",
      "pep8==1.7.1\n",
      "pexpect==4.5.0\n",
      "pickleshare==0.7.4\n",
      "Pillow==5.1.0\n",
      "pkginfo==1.4.2\n",
      "plotly==3.2.1\n",
      "pluggy==0.6.0\n",
      "ply==3.11\n",
      "progressbar33==2.4\n",
      "prometheus-client==0.3.1\n",
      "prompt-toolkit==1.0.15\n",
      "protobuf==3.6.1\n",
      "psutil==5.4.5\n",
      "psycopg2==2.7.5\n",
      "ptyprocess==0.5.2\n",
      "py==1.5.3\n",
      "PyAudio==0.2.11\n",
      "pycodestyle==2.4.0\n",
      "pycosat==0.6.3\n",
      "pycparser==2.18\n",
      "pycrypto==2.6.1\n",
      "pycuda==2018.1.1\n",
      "pycurl==7.43.0.1\n",
      "pydicom==1.1.0\n",
      "pydocumentdb==2.3.3\n",
      "pydot-ng==1.0.0\n",
      "pyflakes==1.6.0\n",
      "pygame==1.9.4\n",
      "pyglet==1.3.2\n",
      "Pygments==2.2.0\n",
      "pygpu==0.7.6\n",
      "PyJWT==1.6.4\n",
      "pykerberos==1.2.1\n",
      "pylint==1.8.4\n",
      "pymongo==3.7.1\n",
      "pyodbc==4.0.24\n",
      "pyOpenSSL==18.0.0\n",
      "pyparsing==2.2.0\n",
      "PySocks==1.6.8\n",
      "pytest==3.5.1\n",
      "pytest-arraydiff==0.2\n",
      "pytest-astropy==0.3.0\n",
      "pytest-doctestplus==0.1.3\n",
      "pytest-openfiles==0.3.0\n",
      "pytest-remotedata==0.2.1\n",
      "pytest-runner==4.2\n",
      "python-dateutil==2.7.3\n",
      "python-editor==1.0.3\n",
      "python-oauth2==1.1.0\n",
      "pytools==2018.5.2\n",
      "pytz==2018.4\n",
      "PyWavelets==0.5.2\n",
      "PyYAML==3.12\n",
      "pyzmq==17.0.0\n",
      "QtAwesome==0.4.4\n",
      "qtconsole==4.3.1\n",
      "QtPy==1.4.1\n",
      "requests==2.18.4\n",
      "requests-file==1.4.3\n",
      "requests-ftp==0.3.1\n",
      "requests-kerberos==0.12.0\n",
      "requests-oauthlib==1.0.0\n",
      "requests-toolbelt==0.8.0\n",
      "resampy==0.2.1\n",
      "retrying==1.3.3\n",
      "rope==0.10.7\n",
      "ruamel-yaml==0.15.35\n",
      "ruamel.yaml==0.15.66\n",
      "s3transfer==0.1.13\n",
      "scikit-image==0.13.1\n",
      "scikit-learn==0.19.1\n",
      "scipy==1.1.0\n",
      "seaborn==0.9.0\n",
      "Send2Trash==1.5.0\n",
      "simplegeneric==0.8.1\n",
      "singledispatch==3.4.0.3\n",
      "six==1.11.0\n",
      "smart-open==1.6.0\n",
      "snowballstemmer==1.2.1\n",
      "sortedcollections==0.6.1\n",
      "sortedcontainers==1.5.10\n",
      "SoundFile==0.10.2\n",
      "sparkmagic==0.12.5\n",
      "Sphinx==1.7.4\n",
      "sphinx-rtd-theme==0.4.1\n",
      "sphinxcontrib-websupport==1.0.1\n",
      "spyder==3.2.8\n",
      "SQLAlchemy==1.2.7\n",
      "statsmodels==0.9.0\n",
      "sudospawner==0.6.0.dev0\n",
      "sympy==1.1.1\n",
      "tables==3.4.3\n",
      "tabulate==0.8.2\n",
      "tblib==1.3.2\n",
      "tensorboard==1.10.0\n",
      "tensorflow-gpu==1.10.1\n",
      "termcolor==1.1.0\n",
      "terminado==0.8.1\n",
      "testpath==0.3.1\n",
      "tf2onnx==0.0.3.0\n",
      "Theano==1.0.2\n",
      "thrift==0.11.0\n",
      "toolz==0.9.0\n",
      "torch==0.4.1.post2\n",
      "torchvision==0.2.1\n",
      "tornado==5.0.2\n",
      "tqdm==4.26.0\n",
      "traitlets==4.3.2\n",
      "twine==1.11.0\n",
      "typing==3.6.4\n",
      "typing-extensions==3.6.5\n",
      "unicodecsv==0.14.1\n",
      "urllib3==1.22\n",
      "wcwidth==0.1.7\n",
      "webencodings==0.5.1\n",
      "Werkzeug==0.14.1\n",
      "wget==3.2\n",
      "widgetsnbextension==3.2.1\n",
      "wrapt==1.10.11\n",
      "xgboost==0.80\n",
      "xlrd==1.1.0\n",
      "XlsxWriter==1.0.4\n",
      "xlwt==1.3.0\n",
      "zict==0.1.3\n",
      "\u001b[33mYou are using pip version 18.0, however version 18.1 is available.\n",
      "You should consider upgrading via the 'pip install --upgrade pip' command.\u001b[0m\n"
     ]
    }
   ],
   "source": [
    "!pip freeze"
   ]
  },
  {
   "cell_type": "code",
   "execution_count": 3,
   "metadata": {
    "nbpresent": {
     "id": "482ce93c-2271-4fdd-b852-78cb5a33d104"
    }
   },
   "outputs": [
    {
     "name": "stdout",
     "output_type": "stream",
     "text": [
      "pip 18.0 from /anaconda/envs/py35/lib/python3.5/site-packages/pip (python 3.5)\r\n"
     ]
    }
   ],
   "source": [
    "!pip --version"
   ]
  },
  {
   "cell_type": "code",
   "execution_count": 4,
   "metadata": {
    "nbpresent": {
     "id": "3c988200-d39a-434f-9632-eb60aa57e396"
    }
   },
   "outputs": [
    {
     "name": "stdout",
     "output_type": "stream",
     "text": [
      "  % Total    % Received % Xferd  Average Speed   Time    Time     Time  Current\n",
      "                                 Dload  Upload   Total   Spent    Left  Speed\n",
      "100 33.4M  100 33.4M    0     0  6463k      0  0:00:05  0:00:05 --:--:-- 7859k\n"
     ]
    }
   ],
   "source": [
    "#! curl -O https://challenge.blob.core.windows.net/challengefiles/gear_images.zip"
   ]
  },
  {
   "cell_type": "markdown",
   "metadata": {
    "nbpresent": {
     "id": "52042ce3-c32b-4af4-a9fc-a945acd71a8b"
    }
   },
   "source": [
    "# Challenge 1"
   ]
  },
  {
   "cell_type": "markdown",
   "metadata": {},
   "source": [
    "# Challenge 2"
   ]
  },
  {
   "cell_type": "code",
   "execution_count": 18,
   "metadata": {},
   "outputs": [],
   "source": []
  },
  {
   "cell_type": "code",
   "execution_count": 91,
   "metadata": {},
   "outputs": [],
   "source": [
    "import numpy as np\n",
    "from PIL import Image\n",
    "def load_image(path_to_img):\n",
    "    '''\n",
    "        Load images and resize them if they are squared and not in 128x128x3\n",
    "        Input:\n",
    "            - path_to_img (string): local path to an image\n",
    "        Output:\n",
    "            - img (PIL.Image): Image in corrected size.\n",
    "    '''\n",
    "    img = Image.open(path_to_img)\n",
    "    \n",
    "    if(img.size[0] > img.size[1]):\n",
    "        white = np.zeros((img.size[0] - img.size[1], img.size[0],  3)) + 255\n",
    "        img = np.vstack((np.array(img)[:,:,:3], white))\n",
    "    elif(img.size[0] < img.size[1]):\n",
    "        white = np.zeros((img.size[1], img.size[1] - img.size[0], 3)) + 255\n",
    "        img = np.hstack((np.array(img)[:,:,:3], white))\n",
    "    else:\n",
    "        img = np.array(img)[:,:,:3]\n",
    "    img = Image.fromarray(np.uint8(img))\n",
    "    basewidth = 128\n",
    "    wpercent = (basewidth/float(img.size[0]))\n",
    "    hsize = int((float(img.size[1])*float(wpercent)))\n",
    "    img = img.resize((basewidth,hsize), Image.ANTIALIAS)\n",
    "    return img"
   ]
  },
  {
   "cell_type": "code",
   "execution_count": 92,
   "metadata": {},
   "outputs": [],
   "source": [
    "import cv2"
   ]
  },
  {
   "cell_type": "code",
   "execution_count": 93,
   "metadata": {},
   "outputs": [
    {
     "name": "stdout",
     "output_type": "stream",
     "text": [
      "Notebook path\n"
     ]
    }
   ],
   "source": [
    "import os\n",
    "\n",
    "for element_type in os.listdir('./gear_images/'):\n",
    "    for pic in os.listdir('./gear_images/' + element_type):\n",
    "        try:\n",
    "            img = load_image('./gear_images/' + element_type +'/'+ pic)\n",
    "            hist,bins = np.histogram(np.array(img).flatten(),256,[0,256])\n",
    "            cdf = hist.cumsum()\n",
    "            cdf_normalized = cdf * hist.max()/ cdf.max()\n",
    "            cdf_m = np.ma.masked_equal(cdf,0)\n",
    "            cdf_m = (cdf_m - cdf_m.min())*255/(cdf_m.max()-cdf_m.min())\n",
    "            cdf = np.ma.filled(cdf_m,0).astype('uint8')\n",
    "            img2 = cdf[img]\n",
    "\n",
    "            img = Image.fromarray(img2)\n",
    "            img.save('./resized_img/' + element_type + '/' + pic)\n",
    "        except IsADirectoryError:\n",
    "            print('Notebook path')\n",
    "            "
   ]
  },
  {
   "cell_type": "markdown",
   "metadata": {},
   "source": [
    "# Challenge 3"
   ]
  },
  {
   "cell_type": "markdown",
   "metadata": {},
   "source": [
    "## Using sklearn to predict classes``"
   ]
  },
  {
   "cell_type": "code",
   "execution_count": 6,
   "metadata": {},
   "outputs": [],
   "source": [
    "from sklearn.svm import LinearSVC\n",
    "from sklearn.model_selection import train_test_split\n",
    "import pandas as pd\n",
    "import os\n",
    "from PIL import Image\n",
    "import numpy as np\n",
    "from sklearn.preprocessing import StandardScaler"
   ]
  },
  {
   "cell_type": "code",
   "execution_count": 2,
   "metadata": {},
   "outputs": [],
   "source": [
    "labels = []\n",
    "list_imgs = []\n",
    "for element_type in os.listdir('./resized_img//'):\n",
    "    for pic in os.listdir('./resized_img//' + element_type):\n",
    "        try:\n",
    "            img = Image.open('./resized_img/' + element_type + '/' + pic)\n",
    "            img = np.array(img).flatten()\n",
    "            labels.append(element_type)\n",
    "            list_imgs.append(img)\n",
    "        except IsADirectoryError:\n",
    "            print(\".ipynb_checkpoints error\")"
   ]
  },
  {
   "cell_type": "code",
   "execution_count": 3,
   "metadata": {},
   "outputs": [
    {
     "data": {
      "text/plain": [
       "2122"
      ]
     },
     "execution_count": 3,
     "metadata": {},
     "output_type": "execute_result"
    }
   ],
   "source": [
    "len(labels)"
   ]
  },
  {
   "cell_type": "code",
   "execution_count": 22,
   "metadata": {},
   "outputs": [],
   "source": [
    "images = np.array(list_imgs)"
   ]
  },
  {
   "cell_type": "code",
   "execution_count": 8,
   "metadata": {},
   "outputs": [
    {
     "name": "stderr",
     "output_type": "stream",
     "text": [
      "/anaconda/envs/py35/lib/python3.5/site-packages/sklearn/utils/validation.py:475: DataConversionWarning: Data with input dtype uint8 was converted to float64 by StandardScaler.\n",
      "  warnings.warn(msg, DataConversionWarning)\n"
     ]
    }
   ],
   "source": [
    "scaler = StandardScaler()\n",
    "scaler.fit(images)\n",
    "\n",
    "images = scaler.transform(images)"
   ]
  },
  {
   "cell_type": "code",
   "execution_count": 23,
   "metadata": {},
   "outputs": [],
   "source": [
    "X_train, X_test, y_train, y_test = train_test_split(images, labels, test_size=0.2, random_state=42)"
   ]
  },
  {
   "cell_type": "code",
   "execution_count": 24,
   "metadata": {},
   "outputs": [],
   "source": [
    "from sklearn.ensemble import ExtraTreesClassifier"
   ]
  },
  {
   "cell_type": "code",
   "execution_count": 25,
   "metadata": {},
   "outputs": [
    {
     "name": "stdout",
     "output_type": "stream",
     "text": [
      "CPU times: user 901 ms, sys: 67.3 ms, total: 968 ms\n",
      "Wall time: 967 ms\n"
     ]
    }
   ],
   "source": [
    "%%time\n",
    "model = ExtraTreesClassifier()\n",
    "model.fit(X_train, y_train)"
   ]
  },
  {
   "cell_type": "code",
   "execution_count": 26,
   "metadata": {},
   "outputs": [
    {
     "data": {
      "text/plain": [
       "0.8470588235294118"
      ]
     },
     "execution_count": 26,
     "metadata": {},
     "output_type": "execute_result"
    }
   ],
   "source": [
    "model.score(X_test, y_test)"
   ]
  },
  {
   "cell_type": "markdown",
   "metadata": {},
   "source": [
    "# Challenge 4"
   ]
  },
  {
   "cell_type": "markdown",
   "metadata": {},
   "source": [
    "Suggested architecture:\n",
    "<br/>\n",
    "Input Layer (3 channel image input layer)<br/>\n",
    "Convolutional (2D)<br/>\n",
    "Max Poolingv<br/>\n",
    "Convolutional (2D)<br/>\n",
    "Max Pooling<br/>\n",
    "Dense (Output layer)<br/>"
   ]
  },
  {
   "cell_type": "code",
   "execution_count": 108,
   "metadata": {},
   "outputs": [],
   "source": [
    "from keras.models import Sequential\n",
    "from keras.layers.convolutional import Conv2D\n",
    "from keras.layers.core import Dense\n",
    "from keras.layers.core import Activation\n",
    "from keras.layers.convolutional import MaxPooling2D\n",
    "from keras.utils import to_categorical\n",
    "from keras import optimizers\n",
    "from keras.layers.core import Flatten\n",
    "from keras.layers import Dropout\n",
    "from keras.callbacks import EarlyStopping"
   ]
  },
  {
   "cell_type": "code",
   "execution_count": 47,
   "metadata": {},
   "outputs": [
    {
     "data": {
      "text/plain": [
       "array([0, 0, 0, 0, 0, 0, 1, 0, 0, 0, 0, 0])"
      ]
     },
     "execution_count": 47,
     "metadata": {},
     "output_type": "execute_result"
    }
   ],
   "source": [
    "labels[0]"
   ]
  },
  {
   "cell_type": "code",
   "execution_count": 77,
   "metadata": {},
   "outputs": [],
   "source": [
    "labels = []\n",
    "list_imgs = []\n",
    "for element_type in os.listdir('./resized_img//'):\n",
    "    for pic in os.listdir('./resized_img//' + element_type):\n",
    "        try:\n",
    "            img = Image.open('./resized_img/' + element_type + '/' + pic)\n",
    "            img = np.array(img)\n",
    "            labels.append(element_type)\n",
    "            list_imgs.append(img)\n",
    "        except IsADirectoryError:\n",
    "            print(\".ipynb_checkpoints error\")"
   ]
  },
  {
   "cell_type": "code",
   "execution_count": 78,
   "metadata": {},
   "outputs": [],
   "source": [
    "images = np.array(list_imgs)"
   ]
  },
  {
   "cell_type": "code",
   "execution_count": 79,
   "metadata": {},
   "outputs": [
    {
     "data": {
      "text/plain": [
       "(2122, 128, 128, 3)"
      ]
     },
     "execution_count": 79,
     "metadata": {},
     "output_type": "execute_result"
    }
   ],
   "source": [
    "images.shape"
   ]
  },
  {
   "cell_type": "code",
   "execution_count": 80,
   "metadata": {},
   "outputs": [
    {
     "data": {
      "text/plain": [
       "LabelBinarizer(neg_label=0, pos_label=1, sparse_output=False)"
      ]
     },
     "execution_count": 80,
     "metadata": {},
     "output_type": "execute_result"
    }
   ],
   "source": [
    "from sklearn import preprocessing\n",
    "lb = preprocessing.LabelBinarizer()\n",
    "lb.fit(labels)"
   ]
  },
  {
   "cell_type": "code",
   "execution_count": 81,
   "metadata": {},
   "outputs": [],
   "source": [
    "labels = lb.transform(labels)"
   ]
  },
  {
   "cell_type": "code",
   "execution_count": 103,
   "metadata": {},
   "outputs": [],
   "source": [
    "X_train, X_test, y_train, y_test = train_test_split(images, labels, test_size=0.2, random_state=42)"
   ]
  },
  {
   "cell_type": "code",
   "execution_count": 104,
   "metadata": {},
   "outputs": [],
   "source": [
    "X_train = X_train/255\n",
    "X_test = X_test/255"
   ]
  },
  {
   "cell_type": "code",
   "execution_count": 158,
   "metadata": {},
   "outputs": [],
   "source": [
    "model = Sequential()\n",
    "model.add(Conv2D(32, (3,3), activation='relu', input_shape=(128, 128, 3)))\n",
    "model.add(Conv2D(32, (3,3), activation='relu'))\n",
    "model.add(MaxPooling2D(pool_size=(2, 2)))\n",
    "model.add(Conv2D(64, (3, 3), activation='relu'))\n",
    "model.add(MaxPooling2D(pool_size=(2, 2)))\n",
    "model.add(Flatten())\n",
    "model.add(Dense(128, activation='relu'))\n",
    "model.add(Dropout(0.2))\n",
    "model.add(Dense(12, activation = 'softmax'))"
   ]
  },
  {
   "cell_type": "code",
   "execution_count": 159,
   "metadata": {},
   "outputs": [],
   "source": [
    "early = EarlyStopping(monitor='val_loss', min_delta=0, patience=4, verbose=0, mode='auto', baseline=None)\n",
    "model.compile(optimizer=optimizers.SGD(), loss='categorical_crossentropy', metrics=['acc'])"
   ]
  },
  {
   "cell_type": "code",
   "execution_count": 160,
   "metadata": {},
   "outputs": [
    {
     "name": "stdout",
     "output_type": "stream",
     "text": [
      "Train on 1527 samples, validate on 170 samples\n",
      "Epoch 1/20\n",
      "1527/1527 [==============================] - 153s 100ms/step - loss: 1.9977 - acc: 0.3268 - val_loss: 1.8494 - val_acc: 0.3118\n",
      "Epoch 2/20\n",
      "1527/1527 [==============================] - 237s 156ms/step - loss: 1.2393 - acc: 0.5776 - val_loss: 0.9704 - val_acc: 0.6647\n",
      "Epoch 3/20\n",
      "1527/1527 [==============================] - 235s 154ms/step - loss: 0.9566 - acc: 0.6791 - val_loss: 0.7207 - val_acc: 0.7588\n",
      "Epoch 4/20\n",
      "1527/1527 [==============================] - 237s 155ms/step - loss: 0.7931 - acc: 0.7243 - val_loss: 0.7942 - val_acc: 0.7176\n",
      "Epoch 5/20\n",
      "1527/1527 [==============================] - 241s 158ms/step - loss: 0.6664 - acc: 0.7629 - val_loss: 0.6301 - val_acc: 0.8235\n",
      "Epoch 6/20\n",
      "1527/1527 [==============================] - 239s 157ms/step - loss: 0.5933 - acc: 0.7957 - val_loss: 0.5430 - val_acc: 0.8294\n",
      "Epoch 7/20\n",
      "1024/1527 [===================>..........] - ETA: 1:16 - loss: 0.5377 - acc: 0.8047"
     ]
    },
    {
     "ename": "KeyboardInterrupt",
     "evalue": "",
     "output_type": "error",
     "traceback": [
      "\u001b[0;31m---------------------------------------------------------------------------\u001b[0m",
      "\u001b[0;31mKeyboardInterrupt\u001b[0m                         Traceback (most recent call last)",
      "\u001b[0;32m<ipython-input-160-a1af9236187a>\u001b[0m in \u001b[0;36m<module>\u001b[0;34m()\u001b[0m\n\u001b[0;32m----> 1\u001b[0;31m \u001b[0mmodel\u001b[0m\u001b[0;34m.\u001b[0m\u001b[0mfit\u001b[0m\u001b[0;34m(\u001b[0m\u001b[0mX_train\u001b[0m\u001b[0;34m,\u001b[0m \u001b[0my_train\u001b[0m\u001b[0;34m,\u001b[0m \u001b[0mbatch_size\u001b[0m\u001b[0;34m=\u001b[0m\u001b[0;36m32\u001b[0m\u001b[0;34m,\u001b[0m \u001b[0mepochs\u001b[0m\u001b[0;34m=\u001b[0m\u001b[0;36m20\u001b[0m\u001b[0;34m,\u001b[0m \u001b[0mvalidation_split\u001b[0m\u001b[0;34m=\u001b[0m\u001b[0;36m0.1\u001b[0m\u001b[0;34m,\u001b[0m \u001b[0mcallbacks\u001b[0m\u001b[0;34m=\u001b[0m\u001b[0;34m[\u001b[0m\u001b[0mearly\u001b[0m\u001b[0;34m]\u001b[0m\u001b[0;34m)\u001b[0m\u001b[0;34m\u001b[0m\u001b[0m\n\u001b[0m",
      "\u001b[0;32m/anaconda/envs/py35/lib/python3.5/site-packages/keras/engine/training.py\u001b[0m in \u001b[0;36mfit\u001b[0;34m(self, x, y, batch_size, epochs, verbose, callbacks, validation_split, validation_data, shuffle, class_weight, sample_weight, initial_epoch, steps_per_epoch, validation_steps, **kwargs)\u001b[0m\n\u001b[1;32m   1035\u001b[0m                                         \u001b[0minitial_epoch\u001b[0m\u001b[0;34m=\u001b[0m\u001b[0minitial_epoch\u001b[0m\u001b[0;34m,\u001b[0m\u001b[0;34m\u001b[0m\u001b[0m\n\u001b[1;32m   1036\u001b[0m                                         \u001b[0msteps_per_epoch\u001b[0m\u001b[0;34m=\u001b[0m\u001b[0msteps_per_epoch\u001b[0m\u001b[0;34m,\u001b[0m\u001b[0;34m\u001b[0m\u001b[0m\n\u001b[0;32m-> 1037\u001b[0;31m                                         validation_steps=validation_steps)\n\u001b[0m\u001b[1;32m   1038\u001b[0m \u001b[0;34m\u001b[0m\u001b[0m\n\u001b[1;32m   1039\u001b[0m     def evaluate(self, x=None, y=None,\n",
      "\u001b[0;32m/anaconda/envs/py35/lib/python3.5/site-packages/keras/engine/training_arrays.py\u001b[0m in \u001b[0;36mfit_loop\u001b[0;34m(model, f, ins, out_labels, batch_size, epochs, verbose, callbacks, val_f, val_ins, shuffle, callback_metrics, initial_epoch, steps_per_epoch, validation_steps)\u001b[0m\n\u001b[1;32m    197\u001b[0m                     \u001b[0mins_batch\u001b[0m\u001b[0;34m[\u001b[0m\u001b[0mi\u001b[0m\u001b[0;34m]\u001b[0m \u001b[0;34m=\u001b[0m \u001b[0mins_batch\u001b[0m\u001b[0;34m[\u001b[0m\u001b[0mi\u001b[0m\u001b[0;34m]\u001b[0m\u001b[0;34m.\u001b[0m\u001b[0mtoarray\u001b[0m\u001b[0;34m(\u001b[0m\u001b[0;34m)\u001b[0m\u001b[0;34m\u001b[0m\u001b[0m\n\u001b[1;32m    198\u001b[0m \u001b[0;34m\u001b[0m\u001b[0m\n\u001b[0;32m--> 199\u001b[0;31m                 \u001b[0mouts\u001b[0m \u001b[0;34m=\u001b[0m \u001b[0mf\u001b[0m\u001b[0;34m(\u001b[0m\u001b[0mins_batch\u001b[0m\u001b[0;34m)\u001b[0m\u001b[0;34m\u001b[0m\u001b[0m\n\u001b[0m\u001b[1;32m    200\u001b[0m                 \u001b[0mouts\u001b[0m \u001b[0;34m=\u001b[0m \u001b[0mto_list\u001b[0m\u001b[0;34m(\u001b[0m\u001b[0mouts\u001b[0m\u001b[0;34m)\u001b[0m\u001b[0;34m\u001b[0m\u001b[0m\n\u001b[1;32m    201\u001b[0m                 \u001b[0;32mfor\u001b[0m \u001b[0ml\u001b[0m\u001b[0;34m,\u001b[0m \u001b[0mo\u001b[0m \u001b[0;32min\u001b[0m \u001b[0mzip\u001b[0m\u001b[0;34m(\u001b[0m\u001b[0mout_labels\u001b[0m\u001b[0;34m,\u001b[0m \u001b[0mouts\u001b[0m\u001b[0;34m)\u001b[0m\u001b[0;34m:\u001b[0m\u001b[0;34m\u001b[0m\u001b[0m\n",
      "\u001b[0;32m/anaconda/envs/py35/lib/python3.5/site-packages/keras/backend/tensorflow_backend.py\u001b[0m in \u001b[0;36m__call__\u001b[0;34m(self, inputs)\u001b[0m\n\u001b[1;32m   2664\u001b[0m                 \u001b[0;32mreturn\u001b[0m \u001b[0mself\u001b[0m\u001b[0;34m.\u001b[0m\u001b[0m_legacy_call\u001b[0m\u001b[0;34m(\u001b[0m\u001b[0minputs\u001b[0m\u001b[0;34m)\u001b[0m\u001b[0;34m\u001b[0m\u001b[0m\n\u001b[1;32m   2665\u001b[0m \u001b[0;34m\u001b[0m\u001b[0m\n\u001b[0;32m-> 2666\u001b[0;31m             \u001b[0;32mreturn\u001b[0m \u001b[0mself\u001b[0m\u001b[0;34m.\u001b[0m\u001b[0m_call\u001b[0m\u001b[0;34m(\u001b[0m\u001b[0minputs\u001b[0m\u001b[0;34m)\u001b[0m\u001b[0;34m\u001b[0m\u001b[0m\n\u001b[0m\u001b[1;32m   2667\u001b[0m         \u001b[0;32melse\u001b[0m\u001b[0;34m:\u001b[0m\u001b[0;34m\u001b[0m\u001b[0m\n\u001b[1;32m   2668\u001b[0m             \u001b[0;32mif\u001b[0m \u001b[0mpy_any\u001b[0m\u001b[0;34m(\u001b[0m\u001b[0mis_tensor\u001b[0m\u001b[0;34m(\u001b[0m\u001b[0mx\u001b[0m\u001b[0;34m)\u001b[0m \u001b[0;32mfor\u001b[0m \u001b[0mx\u001b[0m \u001b[0;32min\u001b[0m \u001b[0minputs\u001b[0m\u001b[0;34m)\u001b[0m\u001b[0;34m:\u001b[0m\u001b[0;34m\u001b[0m\u001b[0m\n",
      "\u001b[0;32m/anaconda/envs/py35/lib/python3.5/site-packages/keras/backend/tensorflow_backend.py\u001b[0m in \u001b[0;36m_call\u001b[0;34m(self, inputs)\u001b[0m\n\u001b[1;32m   2634\u001b[0m                                 \u001b[0msymbol_vals\u001b[0m\u001b[0;34m,\u001b[0m\u001b[0;34m\u001b[0m\u001b[0m\n\u001b[1;32m   2635\u001b[0m                                 session)\n\u001b[0;32m-> 2636\u001b[0;31m         \u001b[0mfetched\u001b[0m \u001b[0;34m=\u001b[0m \u001b[0mself\u001b[0m\u001b[0;34m.\u001b[0m\u001b[0m_callable_fn\u001b[0m\u001b[0;34m(\u001b[0m\u001b[0;34m*\u001b[0m\u001b[0marray_vals\u001b[0m\u001b[0;34m)\u001b[0m\u001b[0;34m\u001b[0m\u001b[0m\n\u001b[0m\u001b[1;32m   2637\u001b[0m         \u001b[0;32mreturn\u001b[0m \u001b[0mfetched\u001b[0m\u001b[0;34m[\u001b[0m\u001b[0;34m:\u001b[0m\u001b[0mlen\u001b[0m\u001b[0;34m(\u001b[0m\u001b[0mself\u001b[0m\u001b[0;34m.\u001b[0m\u001b[0moutputs\u001b[0m\u001b[0;34m)\u001b[0m\u001b[0;34m]\u001b[0m\u001b[0;34m\u001b[0m\u001b[0m\n\u001b[1;32m   2638\u001b[0m \u001b[0;34m\u001b[0m\u001b[0m\n",
      "\u001b[0;32m/anaconda/envs/py35/lib/python3.5/site-packages/tensorflow/python/client/session.py\u001b[0m in \u001b[0;36m__call__\u001b[0;34m(self, *args, **kwargs)\u001b[0m\n\u001b[1;32m   1380\u001b[0m           ret = tf_session.TF_SessionRunCallable(\n\u001b[1;32m   1381\u001b[0m               \u001b[0mself\u001b[0m\u001b[0;34m.\u001b[0m\u001b[0m_session\u001b[0m\u001b[0;34m.\u001b[0m\u001b[0m_session\u001b[0m\u001b[0;34m,\u001b[0m \u001b[0mself\u001b[0m\u001b[0;34m.\u001b[0m\u001b[0m_handle\u001b[0m\u001b[0;34m,\u001b[0m \u001b[0margs\u001b[0m\u001b[0;34m,\u001b[0m \u001b[0mstatus\u001b[0m\u001b[0;34m,\u001b[0m\u001b[0;34m\u001b[0m\u001b[0m\n\u001b[0;32m-> 1382\u001b[0;31m               run_metadata_ptr)\n\u001b[0m\u001b[1;32m   1383\u001b[0m         \u001b[0;32mif\u001b[0m \u001b[0mrun_metadata\u001b[0m\u001b[0;34m:\u001b[0m\u001b[0;34m\u001b[0m\u001b[0m\n\u001b[1;32m   1384\u001b[0m           \u001b[0mproto_data\u001b[0m \u001b[0;34m=\u001b[0m \u001b[0mtf_session\u001b[0m\u001b[0;34m.\u001b[0m\u001b[0mTF_GetBuffer\u001b[0m\u001b[0;34m(\u001b[0m\u001b[0mrun_metadata_ptr\u001b[0m\u001b[0;34m)\u001b[0m\u001b[0;34m\u001b[0m\u001b[0m\n",
      "\u001b[0;31mKeyboardInterrupt\u001b[0m: "
     ]
    }
   ],
   "source": [
    "model.fit(X_train, y_train, batch_size=32, epochs=20, validation_split=0.1, callbacks=[early])"
   ]
  },
  {
   "cell_type": "code",
   "execution_count": 157,
   "metadata": {},
   "outputs": [
    {
     "name": "stdout",
     "output_type": "stream",
     "text": [
      "425/425 [==============================] - 3s 8ms/step\n"
     ]
    },
    {
     "data": {
      "text/plain": [
       "[0.46173039075206307, 0.8494117647058823]"
      ]
     },
     "execution_count": 157,
     "metadata": {},
     "output_type": "execute_result"
    }
   ],
   "source": [
    "model.evaluate(x=X_test, y=y_test)"
   ]
  },
  {
   "cell_type": "code",
   "execution_count": null,
   "metadata": {},
   "outputs": [],
   "source": []
  },
  {
   "cell_type": "code",
   "execution_count": null,
   "metadata": {},
   "outputs": [],
   "source": []
  },
  {
   "cell_type": "code",
   "execution_count": null,
   "metadata": {},
   "outputs": [],
   "source": []
  },
  {
   "cell_type": "code",
   "execution_count": null,
   "metadata": {},
   "outputs": [],
   "source": []
  },
  {
   "cell_type": "code",
   "execution_count": null,
   "metadata": {},
   "outputs": [],
   "source": []
  },
  {
   "cell_type": "code",
   "execution_count": null,
   "metadata": {},
   "outputs": [],
   "source": []
  },
  {
   "cell_type": "code",
   "execution_count": null,
   "metadata": {},
   "outputs": [],
   "source": []
  },
  {
   "cell_type": "code",
   "execution_count": null,
   "metadata": {},
   "outputs": [],
   "source": []
  },
  {
   "cell_type": "code",
   "execution_count": 117,
   "metadata": {},
   "outputs": [],
   "source": [
    "y_pred = model.predict(X_test)"
   ]
  },
  {
   "cell_type": "code",
   "execution_count": 123,
   "metadata": {},
   "outputs": [],
   "source": [
    "y_pred2 = np.zeros(y_pred.shape)"
   ]
  },
  {
   "cell_type": "code",
   "execution_count": 131,
   "metadata": {},
   "outputs": [],
   "source": [
    "count = 0\n",
    "for a in y_pred:\n",
    "    \n",
    "    m = np.argmax(a)\n",
    "    y_pred2[count][m] = 1\n",
    "    count+=1"
   ]
  },
  {
   "cell_type": "code",
   "execution_count": 141,
   "metadata": {},
   "outputs": [],
   "source": [
    "score = 0\n",
    "for i in range(0, 425):\n",
    "    try:\n",
    "        np.testing.assert_array_almost_equal(y_test[i], y_pred2[i])\n",
    "        score+=1\n",
    "    except AssertionError:\n",
    "        pass"
   ]
  },
  {
   "cell_type": "code",
   "execution_count": 146,
   "metadata": {},
   "outputs": [
    {
     "data": {
      "text/plain": [
       "(425, 12)"
      ]
     },
     "execution_count": 146,
     "metadata": {},
     "output_type": "execute_result"
    }
   ],
   "source": [
    "y_test.shape"
   ]
  },
  {
   "cell_type": "code",
   "execution_count": 147,
   "metadata": {},
   "outputs": [
    {
     "data": {
      "text/plain": [
       "(425, 12)"
      ]
     },
     "execution_count": 147,
     "metadata": {},
     "output_type": "execute_result"
    }
   ],
   "source": [
    "y_pred2.shape"
   ]
  },
  {
   "cell_type": "code",
   "execution_count": 142,
   "metadata": {},
   "outputs": [],
   "source": [
    "score = score / 425"
   ]
  },
  {
   "cell_type": "code",
   "execution_count": 143,
   "metadata": {},
   "outputs": [
    {
     "data": {
      "text/plain": [
       "0.10588235294117647"
      ]
     },
     "execution_count": 143,
     "metadata": {},
     "output_type": "execute_result"
    }
   ],
   "source": [
    "score"
   ]
  },
  {
   "cell_type": "code",
   "execution_count": null,
   "metadata": {},
   "outputs": [],
   "source": []
  }
 ],
 "metadata": {
  "kernelspec": {
   "display_name": "Python [default]",
   "language": "python",
   "name": "python3"
  },
  "language_info": {
   "codemirror_mode": {
    "name": "ipython",
    "version": 3
   },
   "file_extension": ".py",
   "mimetype": "text/x-python",
   "name": "python",
   "nbconvert_exporter": "python",
   "pygments_lexer": "ipython3",
   "version": "3.5.5"
  }
 },
 "nbformat": 4,
 "nbformat_minor": 2
}
