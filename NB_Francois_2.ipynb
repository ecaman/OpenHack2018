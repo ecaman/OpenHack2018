{
 "cells": [
  {
   "cell_type": "code",
   "execution_count": 1,
   "metadata": {},
   "outputs": [
    {
     "name": "stderr",
     "output_type": "stream",
     "text": [
      "/anaconda/envs/py35/lib/python3.5/site-packages/h5py/__init__.py:36: FutureWarning: Conversion of the second argument of issubdtype from `float` to `np.floating` is deprecated. In future, it will be treated as `np.float64 == np.dtype(float).type`.\n",
      "  from ._conv import register_converters as _register_converters\n"
     ]
    }
   ],
   "source": [
    "import numpy as np\n",
    "import os\n",
    "import tensorflow as tf\n",
    "from sklearn.svm import LinearSVC\n",
    "from sklearn.pipeline import Pipeline\n",
    "from sklearn.svm import SVC\n",
    "from sklearn.preprocessing import LabelBinarizer\n",
    "from sklearn.model_selection import train_test_split\n",
    "import pandas as pd\n",
    "import os\n",
    "from PIL import Image\n",
    "import numpy as np"
   ]
  },
  {
   "cell_type": "code",
   "execution_count": 2,
   "metadata": {},
   "outputs": [],
   "source": [
    "labels = []\n",
    "list_imgs = []\n",
    "for element_type in os.listdir('./resized_img//'):\n",
    "    for pic in os.listdir('./resized_img//' + element_type):\n",
    "        try:\n",
    "            img = Image.open('./resized_img/' + element_type + '/' + pic)\n",
    "            img = np.array(img).flatten()\n",
    "            labels.append(element_type)\n",
    "            list_imgs.append(img)\n",
    "        except IsADirectoryError:\n",
    "            print(\".ipynb_checkpoints error\")"
   ]
  },
  {
   "cell_type": "code",
   "execution_count": 3,
   "metadata": {},
   "outputs": [],
   "source": [
    "images = np.array(list_imgs)"
   ]
  },
  {
   "cell_type": "code",
   "execution_count": 4,
   "metadata": {},
   "outputs": [],
   "source": [
    "X_train, X_test, y_train, y_test = train_test_split(images, labels, test_size=0.2, random_state=42)\n",
    "X_train = X_train.astype(\"float\") / 255\n",
    "X_test = X_test.astype(\"float\") / 255"
   ]
  },
  {
   "cell_type": "code",
   "execution_count": 5,
   "metadata": {},
   "outputs": [],
   "source": [
    "X_train = X_train.reshape(-1, 128, 128, 3)\n",
    "X_test = X_test.reshape(-1, 128, 128, 3)"
   ]
  },
  {
   "cell_type": "code",
   "execution_count": 6,
   "metadata": {},
   "outputs": [],
   "source": [
    "lb = LabelBinarizer()\n",
    "y_train_OHE = lb.fit_transform(y_train)\n",
    "y_test_OHE = lb.transform(y_test)"
   ]
  },
  {
   "cell_type": "code",
   "execution_count": 7,
   "metadata": {},
   "outputs": [
    {
     "data": {
      "text/plain": [
       "(1697, 128, 128, 3)"
      ]
     },
     "execution_count": 7,
     "metadata": {},
     "output_type": "execute_result"
    }
   ],
   "source": [
    "X_train.shape"
   ]
  },
  {
   "cell_type": "markdown",
   "metadata": {},
   "source": [
    "# convnet"
   ]
  },
  {
   "cell_type": "code",
   "execution_count": 27,
   "metadata": {},
   "outputs": [],
   "source": [
    "model = tf.keras.Sequential()\n",
    "model.add(tf.keras.layers.Conv2D(32, kernel_size=(3, 3), activation='relu', input_shape=(128,128,3)))\n",
    "model.add(tf.keras.layers.MaxPool2D(pool_size=(3, 3)))\n",
    "model.add(tf.keras.layers.Conv2D(32, kernel_size=(3, 3), activation='relu'))\n",
    "model.add(tf.keras.layers.MaxPool2D(pool_size=(3, 3)))\n",
    "model.add(tf.keras.layers.Flatten())\n",
    "model.add(tf.keras.layers.Dense(128, activation='relu'))\n",
    "#model.add(tf.keras.layers.Dense(12, activation='softmax'))\n",
    "model.add(tf.keras.layers.Dropout(0.2))\n",
    "model.add(tf.keras.layers.Dense(12))\n",
    "model.add(tf.keras.layers.Activation(\"softmax\"))"
   ]
  },
  {
   "cell_type": "code",
   "execution_count": 28,
   "metadata": {},
   "outputs": [
    {
     "name": "stdout",
     "output_type": "stream",
     "text": [
      "_________________________________________________________________\n",
      "Layer (type)                 Output Shape              Param #   \n",
      "=================================================================\n",
      "conv2d_7 (Conv2D)            (None, 126, 126, 32)      896       \n",
      "_________________________________________________________________\n",
      "max_pooling2d_7 (MaxPooling2 (None, 42, 42, 32)        0         \n",
      "_________________________________________________________________\n",
      "conv2d_8 (Conv2D)            (None, 40, 40, 32)        9248      \n",
      "_________________________________________________________________\n",
      "max_pooling2d_8 (MaxPooling2 (None, 13, 13, 32)        0         \n",
      "_________________________________________________________________\n",
      "flatten_4 (Flatten)          (None, 5408)              0         \n",
      "_________________________________________________________________\n",
      "dense_8 (Dense)              (None, 128)               692352    \n",
      "_________________________________________________________________\n",
      "dropout (Dropout)            (None, 128)               0         \n",
      "_________________________________________________________________\n",
      "dense_9 (Dense)              (None, 12)                1548      \n",
      "_________________________________________________________________\n",
      "activation_4 (Activation)    (None, 12)                0         \n",
      "=================================================================\n",
      "Total params: 704,044\n",
      "Trainable params: 704,044\n",
      "Non-trainable params: 0\n",
      "_________________________________________________________________\n"
     ]
    }
   ],
   "source": [
    "model.summary()"
   ]
  },
  {
   "cell_type": "code",
   "execution_count": 29,
   "metadata": {},
   "outputs": [],
   "source": [
    "epochs = 30\n",
    "batch_size=128"
   ]
  },
  {
   "cell_type": "code",
   "execution_count": 30,
   "metadata": {},
   "outputs": [
    {
     "name": "stdout",
     "output_type": "stream",
     "text": [
      "Train on 1697 samples, validate on 425 samples\n",
      "Epoch 1/30\n",
      "1697/1697 [==============================] - 2s 1ms/step - loss: 2.7720 - acc: 0.2634 - val_loss: 1.5283 - val_acc: 0.5247\n",
      "Epoch 2/30\n",
      "1697/1697 [==============================] - 1s 831us/step - loss: 1.0881 - acc: 0.6470 - val_loss: 0.6760 - val_acc: 0.7694\n",
      "Epoch 3/30\n",
      "1697/1697 [==============================] - 1s 804us/step - loss: 0.5696 - acc: 0.7996 - val_loss: 0.5119 - val_acc: 0.8071\n",
      "Epoch 4/30\n",
      "1697/1697 [==============================] - 1s 810us/step - loss: 0.3326 - acc: 0.8786 - val_loss: 0.4074 - val_acc: 0.8635\n",
      "Epoch 5/30\n",
      "1697/1697 [==============================] - 1s 809us/step - loss: 0.2437 - acc: 0.9116 - val_loss: 0.3599 - val_acc: 0.8941\n",
      "Epoch 6/30\n",
      "1697/1697 [==============================] - 1s 809us/step - loss: 0.1549 - acc: 0.9470 - val_loss: 0.3764 - val_acc: 0.8965\n",
      "Epoch 7/30\n",
      "1697/1697 [==============================] - 1s 811us/step - loss: 0.1201 - acc: 0.9558 - val_loss: 0.4249 - val_acc: 0.8753\n",
      "Epoch 8/30\n",
      "1697/1697 [==============================] - 1s 822us/step - loss: 0.0821 - acc: 0.9694 - val_loss: 0.4878 - val_acc: 0.8800\n",
      "Epoch 9/30\n",
      "1697/1697 [==============================] - 1s 808us/step - loss: 0.1222 - acc: 0.9588 - val_loss: 0.4330 - val_acc: 0.8612\n",
      "Epoch 10/30\n",
      "1697/1697 [==============================] - 1s 807us/step - loss: 0.0954 - acc: 0.9670 - val_loss: 0.3275 - val_acc: 0.9224\n",
      "Epoch 11/30\n",
      "1697/1697 [==============================] - 1s 809us/step - loss: 0.0727 - acc: 0.9788 - val_loss: 0.3909 - val_acc: 0.8941\n",
      "Epoch 12/30\n",
      "1697/1697 [==============================] - 1s 813us/step - loss: 0.0305 - acc: 0.9923 - val_loss: 0.3553 - val_acc: 0.9224\n",
      "Epoch 13/30\n",
      "1697/1697 [==============================] - 1s 818us/step - loss: 0.0273 - acc: 0.9906 - val_loss: 0.5462 - val_acc: 0.8918\n",
      "Epoch 14/30\n",
      "1697/1697 [==============================] - 1s 813us/step - loss: 0.0336 - acc: 0.9900 - val_loss: 0.4450 - val_acc: 0.9035\n",
      "Epoch 15/30\n",
      "1697/1697 [==============================] - 1s 816us/step - loss: 0.0429 - acc: 0.9847 - val_loss: 0.5426 - val_acc: 0.9012\n",
      "Epoch 16/30\n",
      "1697/1697 [==============================] - 1s 809us/step - loss: 0.0372 - acc: 0.9870 - val_loss: 0.4084 - val_acc: 0.9153\n",
      "Epoch 17/30\n",
      "1697/1697 [==============================] - 1s 809us/step - loss: 0.0638 - acc: 0.9823 - val_loss: 0.5237 - val_acc: 0.9153\n",
      "Epoch 18/30\n",
      "1697/1697 [==============================] - 1s 809us/step - loss: 0.0429 - acc: 0.9841 - val_loss: 0.3616 - val_acc: 0.9318\n",
      "Epoch 19/30\n",
      "1697/1697 [==============================] - 1s 810us/step - loss: 0.0580 - acc: 0.9776 - val_loss: 0.4714 - val_acc: 0.8988\n",
      "Epoch 20/30\n",
      "1697/1697 [==============================] - 1s 805us/step - loss: 0.0310 - acc: 0.9923 - val_loss: 0.4948 - val_acc: 0.9176\n",
      "Epoch 21/30\n",
      "1697/1697 [==============================] - 1s 808us/step - loss: 0.0180 - acc: 0.9929 - val_loss: 0.5977 - val_acc: 0.9106\n",
      "Epoch 22/30\n",
      "1697/1697 [==============================] - 1s 812us/step - loss: 0.0140 - acc: 0.9953 - val_loss: 0.5708 - val_acc: 0.9176\n",
      "Epoch 23/30\n",
      "1697/1697 [==============================] - 1s 808us/step - loss: 0.0136 - acc: 0.9965 - val_loss: 0.7021 - val_acc: 0.8941\n",
      "Epoch 24/30\n",
      "1697/1697 [==============================] - 1s 799us/step - loss: 0.0182 - acc: 0.9935 - val_loss: 0.5126 - val_acc: 0.9129\n",
      "Epoch 25/30\n",
      "1697/1697 [==============================] - 1s 799us/step - loss: 0.0115 - acc: 0.9953 - val_loss: 0.6099 - val_acc: 0.9059\n",
      "Epoch 26/30\n",
      "1697/1697 [==============================] - 1s 797us/step - loss: 0.0153 - acc: 0.9953 - val_loss: 0.6240 - val_acc: 0.9153\n",
      "Epoch 27/30\n",
      "1697/1697 [==============================] - 1s 801us/step - loss: 0.0163 - acc: 0.9941 - val_loss: 0.6215 - val_acc: 0.9035\n",
      "Epoch 28/30\n",
      "1697/1697 [==============================] - 1s 805us/step - loss: 0.0328 - acc: 0.9882 - val_loss: 0.6804 - val_acc: 0.9106\n",
      "Epoch 29/30\n",
      "1697/1697 [==============================] - 1s 802us/step - loss: 0.0222 - acc: 0.9935 - val_loss: 0.5063 - val_acc: 0.9247\n",
      "Epoch 30/30\n",
      "1697/1697 [==============================] - 1s 801us/step - loss: 0.0160 - acc: 0.9971 - val_loss: 0.4252 - val_acc: 0.9365\n",
      "425/425 [==============================] - 0s 402us/step\n",
      "Test loss: 0.4252316390766817\n",
      "Test accuracy: 0.9364705883755403\n"
     ]
    }
   ],
   "source": [
    "model.compile(loss=tf.keras.losses.categorical_crossentropy,\n",
    "              optimizer=tf.keras.optimizers.Adam(lr=0.01),\n",
    "              metrics=['accuracy'])\n",
    "\n",
    "model.fit(X_train, y_train_OHE,\n",
    "          batch_size=batch_size,\n",
    "          epochs=epochs,\n",
    "          verbose=True,\n",
    "          validation_data=(X_test, y_test_OHE))\n",
    "score = model.evaluate(X_test, y_test_OHE, verbose=True)\n",
    "print('Test loss:', score[0])\n",
    "print('Test accuracy:', score[1])"
   ]
  },
  {
   "cell_type": "markdown",
   "metadata": {},
   "source": [
    "# Challenge 6"
   ]
  },
  {
   "cell_type": "code",
   "execution_count": 31,
   "metadata": {},
   "outputs": [
    {
     "name": "stdout",
     "output_type": "stream",
     "text": [
      "  % Total    % Received % Xferd  Average Speed   Time    Time     Time  Current\n",
      "                                 Dload  Upload   Total   Spent    Left  Speed\n",
      "100 25750  100 25750    0     0  29030      0 --:--:-- --:--:-- --:--:-- 28997\n"
     ]
    }
   ],
   "source": [
    "! curl -O https://challenge.blob.core.windows.net/challengefiles/summit_post_urls_selected.txt"
   ]
  },
  {
   "cell_type": "code",
   "execution_count": 32,
   "metadata": {},
   "outputs": [
    {
     "name": "stdout",
     "output_type": "stream",
     "text": [
      "https://80d2853cc4def76b377d-54344bc01a8b066c84096a8e7a3499ac.ssl.cf1.rackcdn.com/original/434140.jpg\r",
      "\r\n",
      "https://80d2853cc4def76b377d-54344bc01a8b066c84096a8e7a3499ac.ssl.cf1.rackcdn.com/original/434502.jpg\r",
      "\r\n",
      "https://80d2853cc4def76b377d-54344bc01a8b066c84096a8e7a3499ac.ssl.cf1.rackcdn.com/original/434922.jpg\r",
      "\r\n",
      "https://80d2853cc4def76b377d-54344bc01a8b066c84096a8e7a3499ac.ssl.cf1.rackcdn.com/original/434947.jpg\r",
      "\r\n",
      "https://80d2853cc4def76b377d-54344bc01a8b066c84096a8e7a3499ac.ssl.cf1.rackcdn.com/original/480835.jpg\r",
      "\r\n",
      "https://80d2853cc4def76b377d-54344bc01a8b066c84096a8e7a3499ac.ssl.cf1.rackcdn.com/original/480836.jpg\r",
      "\r\n",
      "https://80d2853cc4def76b377d-54344bc01a8b066c84096a8e7a3499ac.ssl.cf1.rackcdn.com/original/480837.jpg\r",
      "\r\n",
      "https://80d2853cc4def76b377d-54344bc01a8b066c84096a8e7a3499ac.ssl.cf1.rackcdn.com/original/480839.JPG\r",
      "\r\n",
      "https://80d2853cc4def76b377d-54344bc01a8b066c84096a8e7a3499ac.ssl.cf1.rackcdn.com/original/480840.jpg\r",
      "\r\n",
      "https://80d2853cc4def76b377d-54344bc01a8b066c84096a8e7a3499ac.ssl.cf1.rackcdn.com/original/480863.jpg\r",
      "\r\n"
     ]
    }
   ],
   "source": [
    "! head summit_post_urls_selected.txt "
   ]
  },
  {
   "cell_type": "code",
   "execution_count": null,
   "metadata": {},
   "outputs": [],
   "source": []
  }
 ],
 "metadata": {
  "kernelspec": {
   "display_name": "Python [conda env:py35]",
   "language": "python",
   "name": "conda-env-py35-py"
  },
  "language_info": {
   "codemirror_mode": {
    "name": "ipython",
    "version": 3
   },
   "file_extension": ".py",
   "mimetype": "text/x-python",
   "name": "python",
   "nbconvert_exporter": "python",
   "pygments_lexer": "ipython3",
   "version": "3.5.5"
  }
 },
 "nbformat": 4,
 "nbformat_minor": 2
}
