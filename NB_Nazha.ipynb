{
 "cells": [
  {
   "cell_type": "code",
   "execution_count": null,
   "metadata": {
    "scrolled": false
   },
   "outputs": [],
   "source": [
    "  #import sys\n",
    "  #! {sys.executable} -m pip freeze\n",
    "  #! {sys.executable} -m pip --version"
   ]
  },
  {
   "cell_type": "code",
   "execution_count": null,
   "metadata": {},
   "outputs": [],
   "source": [
    "  #import sys\n",
    "  #sys.version"
   ]
  },
  {
   "cell_type": "code",
   "execution_count": null,
   "metadata": {},
   "outputs": [],
   "source": [
    "#!pip install azure-cognitiveservices-vision-customvision"
   ]
  },
  {
   "cell_type": "code",
   "execution_count": null,
   "metadata": {},
   "outputs": [],
   "source": [
    "%matplotlib inline\n",
    "\n",
    "import os\n",
    "import numpy as np\n",
    "\n",
    "from PIL import Image\n",
    "from skimage.transform import resize\n",
    "from matplotlib import pyplot as plt"
   ]
  },
  {
   "cell_type": "markdown",
   "metadata": {},
   "source": [
    "# Custom vision"
   ]
  },
  {
   "cell_type": "code",
   "execution_count": 1,
   "metadata": {},
   "outputs": [],
   "source": [
    "hardshell_dir = \"./gear_images/hardshell_jackets/\"\n",
    "hardshell_img = os.listdir(os.fsencode(hardshell_dir))\n",
    "\n",
    "insulated_dir = \"./gear_images/insulated_jackets/\"\n",
    "insulated_img = os.listdir(os.fsencode(insulated_dir))"
   ]
  },
  {
   "cell_type": "markdown",
   "metadata": {},
   "source": [
    "# Create Custom Vision Project"
   ]
  },
  {
   "cell_type": "code",
   "execution_count": null,
   "metadata": {},
   "outputs": [],
   "source": [
    "from azure.cognitiveservices.vision.customvision.training import training_api\n",
    "from azure.cognitiveservices.vision.customvision.training.models import ImageUrlCreateEntry\n",
    "\n",
    "# Replace with a valid key\n",
    "#training_key = \"e67b9fbb864242a4b54f405f0b4dde58\"\n",
    "#prediction_key = \"13c783ec251e4a0da4346b37590af9f7\"\n",
    "training_key = \"e5721209f021479fa6a580fa1180d6d7\"\n",
    "prediction_key = \"574dcc4f869f49b7898cb5054d034aa6\"\n",
    "\n",
    "trainer = training_api.TrainingApi(training_key)\n",
    "\n",
    "# Create a new project\n",
    "print (\"Creating project...\")\n",
    "project = trainer.create_project(\"HackProject\")"
   ]
  },
  {
   "cell_type": "code",
   "execution_count": null,
   "metadata": {},
   "outputs": [],
   "source": [
    "project_id = \"b4a93c6f-1f0e-4fe9-b777-3fb3b070eb99\""
   ]
  },
  {
   "cell_type": "code",
   "execution_count": null,
   "metadata": {},
   "outputs": [],
   "source": [
    "hardshell_tag = trainer.create_tag(project_id, \"hard_shell\")\n",
    "insulated_tag = trainer.create_tag(project_id, \"insulated\")"
   ]
  },
  {
   "cell_type": "code",
   "execution_count": null,
   "metadata": {},
   "outputs": [],
   "source": [
    "for image in hardshell_img[:300]:\n",
    "    with open(hardshell_dir + \"/\" + os.fsdecode(image), mode=\"rb\") as img_data: \n",
    "        trainer.create_images_from_data(project_id, img_data, [ hardshell_tag.id ])\n",
    "\n",
    "\n",
    "for image in insulated_img[:180]:\n",
    "    with open(insulated_dir + \"/\" + os.fsdecode(image), mode=\"rb\") as img_data: \n",
    "        trainer.create_images_from_data(project_id, img_data, [ insulated_tag.id ])"
   ]
  },
  {
   "cell_type": "code",
   "execution_count": null,
   "metadata": {},
   "outputs": [],
   "source": [
    "import time\n",
    "\n",
    "print (\"Training...\")\n",
    "iteration = trainer.train_project(project_id)\n",
    "while (iteration.status != \"Completed\"):\n",
    "    iteration = trainer.get_iteration(project_id, iteration.id)\n",
    "    print (\"Training status: \" + iteration.status)\n",
    "    time.sleep(1)\n",
    "\n",
    "# The iteration is now trained. Make it the default project endpoint\n",
    "trainer.update_iteration(project_id, iteration.id, is_default=True)\n",
    "print (\"Done!\")"
   ]
  },
  {
   "cell_type": "code",
   "execution_count": null,
   "metadata": {},
   "outputs": [],
   "source": [
    "from azure.cognitiveservices.vision.customvision.prediction import prediction_endpoint\n",
    "from azure.cognitiveservices.vision.customvision.prediction.prediction_endpoint import models\n",
    "\n",
    "# Now there is a trained endpoint that can be used to make a prediction\n",
    "\n",
    "predictor = prediction_endpoint.PredictionEndpoint(prediction_key)\n",
    "\n",
    "test_img_url = insulated_dir + \"/\" + os.fsdecode(insulated_img[200])\n",
    "#results = predictor.predict_image_url(project.id, iteration.id, url=test_img_url)\n",
    "\n",
    "# Alternatively, if the images were on disk in a folder called Images alongside the sample.py, then\n",
    "# they can be added by using the following.\n",
    "#\n",
    "# Open the sample image and get back the prediction results.\n",
    "with open(test_img_url, mode=\"rb\") as test_data:\n",
    "    results = predictor.predict_image(project.id, test_data, iteration.id)\n",
    "\n",
    "# Display the results.\n",
    "for prediction in results.predictions:\n",
    "    print (\"\\t\" + prediction.tag_name + \": {0:.2f}%\".format(prediction.probability * 100))\n"
   ]
  },
  {
   "cell_type": "markdown",
   "metadata": {},
   "source": [
    "# Resizing Image"
   ]
  },
  {
   "cell_type": "code",
   "execution_count": null,
   "metadata": {},
   "outputs": [],
   "source": [
    "test_img_url = insulated_dir + \"/\" + os.fsdecode(insulated_img[200])\n",
    "\n",
    "print(test_img_url)\n",
    "\n",
    "basewidth = 300\n",
    "img = Image.open(test_img_url)\n",
    "\n",
    "I = np.asarray(img)\n",
    "I.shape\n",
    "wpercent = (basewidth/float(img.size[0]))\n",
    "hsize = int((float(img.size[1])*float(wpercent)))\n",
    "img = img.resize((basewidth,hsize), Image.ANTIALIAS)\n",
    "img.save('nbo_10229002x1044967_zm.jpeg.jpg')"
   ]
  },
  {
   "cell_type": "code",
   "execution_count": null,
   "metadata": {},
   "outputs": [],
   "source": [
    "test_img_url = insulated_dir + \"/\" + os.fsdecode(insulated_img[200])\n",
    "img = Image.open( test_img_url )\n",
    "img.load()\n",
    "data = np.asarray( img, dtype=\"int32\" )"
   ]
  },
  {
   "cell_type": "code",
   "execution_count": null,
   "metadata": {},
   "outputs": [],
   "source": [
    "# 255 = Blanc\n",
    "# 0 = Noir\n",
    "w, h = 400, 400\n",
    "b = np.zeros((h, w, 3), dtype=np.uint8) + 255\n",
    "test = np.hstack((data,b))\n",
    "\n",
    "from matplotlib import pyplot as plt\n",
    "plt.imshow(test, interpolation='nearest')\n",
    "plt.show()"
   ]
  },
  {
   "cell_type": "code",
   "execution_count": 160,
   "metadata": {},
   "outputs": [],
   "source": [
    "def load_images(path_to_img):\n",
    "    '''\n",
    "       Load images and resize them if they are squared and not in 128x128x3\n",
    "    '''\n",
    "    #img = PIL.Image.open(path_to_img)\n",
    "    img = np.array(PIL.Image.open(path_to_img))\n",
    "    print(img.shape)\n",
    "    #print(img)\n",
    "    if(img.shape[0] > img.shape[1]):\n",
    "        white = np.zeros((img.shape[0], int((img.shape[0] - img.shape[1])/2), 3)) + 255\n",
    "        img = np.hstack((white, img))\n",
    "        img = np.hstack((img, white)) / 255\n",
    "    elif(img.shape[0] < img.shape[1]):\n",
    "        white = np.zeros((int((img.shape[1] - img.shape[0])/2), img.shape[1], 3)) + 255\n",
    "        img = np.vstack((white, img))\n",
    "        img = np.vstack((img, white)) / 255\n",
    "\n",
    "    basewidth = 128\n",
    "    img_resized = resize(img, (basewidth, basewidth), mode='reflect')\n",
    "    return img_resized"
   ]
  },
  {
   "cell_type": "code",
   "execution_count": null,
   "metadata": {},
   "outputs": [],
   "source": [
    "def remi_load_image(path_to_img):\n",
    "   '''\n",
    "       Load images and resize them if they are squared and not in 128x128x3\n",
    "       Input:\n",
    "           - path_to_img (string): local path to an image\n",
    "       Output:\n",
    "           - img (PIL.Image): Image in corrected size.\n",
    "   '''\n",
    "    img = Image.open(path_to_img)\n",
    "\n",
    "    if(img.size[0] > img.size[1]):\n",
    "        white = np.zeros((img.size[0] - img.size[1], img.size[0],  3)) + 255\n",
    "        img = np.vstack((np.array(img)[:,:,:3], white))\n",
    "    elif(img.size[0] < img.size[1]):\n",
    "        white = np.zeros((img.size[1], img.size[1] - img.size[0], 3)) + 255\n",
    "        img = np.hstack((np.array(img)[:,:,:3], white))\n",
    "    img = Image.fromarray(np.uint8(img))\n",
    "    basewidth = 128\n",
    "    wpercent = (basewidth/float(img.size[0]))\n",
    "    hsize = int((float(img.size[1])*float(wpercent)))\n",
    "    img = img.resize((basewidth,hsize), Image.ANTIALIAS)\n",
    "    return img"
   ]
  },
  {
   "cell_type": "code",
   "execution_count": 118,
   "metadata": {},
   "outputs": [
    {
     "name": "stdout",
     "output_type": "stream",
     "text": [
      "(218, 230, 3)\n"
     ]
    },
    {
     "data": {
      "image/png": "[encoded data removed]",
      "text/plain": [
       "<Figure size 432x288 with 1 Axes>"
      ]
     },
     "metadata": {},
     "output_type": "display_data"
    }
   ],
   "source": [
    "test_img_url = \"./gear_images/axes/100172.jpeg\"\n",
    "test = load_images(test_img_url)\n",
    "plt.imshow(test, interpolation='nearest')\n",
    "plt.show()"
   ]
  },
  {
   "cell_type": "code",
   "execution_count": 119,
   "metadata": {},
   "outputs": [
    {
     "name": "stdout",
     "output_type": "stream",
     "text": [
      "(400, 400, 3)\n"
     ]
    },
    {
     "data": {
      "image/png": "[encoded data removed]",
      "text/plain": [
       "<Figure size 432x288 with 1 Axes>"
      ]
     },
     "metadata": {},
     "output_type": "display_data"
    }
   ],
   "source": [
    "test_img_url = \"./gear_images/axes/10036053x1012980_zm.jpeg\"\n",
    "test = load_images(test_img_url)\n",
    "plt.imshow(test, interpolation='nearest')\n",
    "plt.show()"
   ]
  },
  {
   "cell_type": "code",
   "execution_count": 135,
   "metadata": {},
   "outputs": [
    {
     "name": "stdout",
     "output_type": "stream",
     "text": [
      "(400, 210, 3)\n"
     ]
    },
    {
     "data": {
      "image/png": "[encoded data removed]",
      "text/plain": [
       "<Figure size 432x288 with 1 Axes>"
      ]
     },
     "metadata": {},
     "output_type": "display_data"
    }
   ],
   "source": [
    "test_img_url = \"./gear_images/axes/10045714_zm.jpeg\"\n",
    "test = load_images(test_img_url)\n",
    "plt.imshow(test, interpolation='nearest')\n",
    "plt.show()"
   ]
  },
  {
   "cell_type": "code",
   "execution_count": 187,
   "metadata": {},
   "outputs": [],
   "source": [
    "def normalize(arr):\n",
    "    \"\"\"\n",
    "    Linear normalization\n",
    "    http://en.wikipedia.org/wiki/Normalization_%28image_processing%29\n",
    "    \"\"\"\n",
    "    arr = arr.astype('float')\n",
    "    # Do not touch the alpha channel\n",
    "    for i in range(3):\n",
    "        minval = arr[...,i].min()\n",
    "        maxval = arr[...,i].max()\n",
    "        if minval != maxval:\n",
    "            arr[...,i] -= minval\n",
    "            arr[...,i] *= (255.0/(maxval-minval))\n",
    "    return arr\n",
    "\n",
    "def demo_normalize(filename):\n",
    "    img = Image.open(filename).convert('RGBA')\n",
    "    arr = np.array(img)\n",
    "    new_img = Image.fromarray(normalize(arr).astype('uint8'),'RGBA')\n",
    "    new_img.save('normalized.png')\n",
    "    "
   ]
  },
  {
   "cell_type": "code",
   "execution_count": 191,
   "metadata": {},
   "outputs": [
    {
     "data": {
      "image/png": "[encoded data removed]",
      "text/plain": [
       "<Figure size 432x288 with 1 Axes>"
      ]
     },
     "metadata": {},
     "output_type": "display_data"
    }
   ],
   "source": [
    "test_img_url = \"./gear_images/hardshell_jackets/10184183x1012905_zm.jpeg\"\n",
    "\n",
    "#img = Image.open( test_img_url )\n",
    "#img.load()\n",
    "#data = np.asarray( img, dtype=\"int32\" )\n",
    "#plt.imshow(data, interpolation='nearest')\n",
    "#plt.show()\n",
    "\n",
    "test = demo_normalize(test_img_url)\n",
    "#test = load_images(\"normalized.png\")\n",
    "img = Image.open(\"normalized.png\")\n",
    "img.load()\n",
    "data = np.asarray( img, dtype=\"int32\" )\n",
    "plt.imshow(data, interpolation='nearest')\n",
    "plt.show()"
   ]
  },
  {
   "cell_type": "markdown",
   "metadata": {},
   "source": [
    "# Challenge 3"
   ]
  },
  {
   "cell_type": "code",
   "execution_count": 270,
   "metadata": {},
   "outputs": [],
   "source": [
    "import sklearn\n",
    "import pandas as pd\n",
    "import glob"
   ]
  },
  {
   "cell_type": "code",
   "execution_count": 294,
   "metadata": {},
   "outputs": [
    {
     "name": "stdout",
     "output_type": "stream",
     "text": [
      "harnesses\n",
      "crampons\n",
      "rope\n",
      "insulated_jackets\n",
      "tents\n",
      "gloves\n",
      "hardshell_jackets\n",
      "carabiners\n",
      "boots\n",
      "axes\n",
      "new\n",
      "pulleys\n",
      "helmets\n",
      "2122\n",
      "2122\n"
     ]
    }
   ],
   "source": [
    "labels = []\n",
    "list_imgs = []\n",
    "a = np.zeros(shape=(2122, (128*128*3)))\n",
    "count = 0\n",
    "for element_type in os.listdir('./resized_img//'):\n",
    "    print(element_type)\n",
    "    files_only = glob.glob('./resized_img//' + element_type + '//*.*')\n",
    "    for pic in files_only:\n",
    "        img = Image.open(pic)\n",
    "        img = np.array(img).flatten()\n",
    "        if(img.shape[0] != 49152):\n",
    "            print(pic , ': ' , img.shape)\n",
    "        else:\n",
    "            labels.append(element_type)\n",
    "            list_imgs.append(img)\n",
    "            a[count] = img\n",
    "            count = count + 1\n",
    "        \n",
    "print(len(labels))\n",
    "print(len(list_imgs))"
   ]
  },
  {
   "cell_type": "code",
   "execution_count": 272,
   "metadata": {},
   "outputs": [],
   "source": [
    "from sklearn.ensemble import RandomForestClassifier\n",
    "from sklearn.model_selection import train_test_split\n",
    "\n",
    "X_train, X_test, y_train, y_test = train_test_split(list_imgs, labels, test_size=0.33, random_state=42)\n"
   ]
  },
  {
   "cell_type": "code",
   "execution_count": 250,
   "metadata": {},
   "outputs": [],
   "source": [
    "clf = RandomForestClassifier(n_estimators=10)\n",
    "clf = clf.fit(X_train, y_train)"
   ]
  },
  {
   "cell_type": "code",
   "execution_count": 252,
   "metadata": {},
   "outputs": [],
   "source": [
    "y_predict = clf.predict(X_test)"
   ]
  },
  {
   "cell_type": "code",
   "execution_count": 255,
   "metadata": {},
   "outputs": [
    {
     "data": {
      "text/plain": [
       "0.8002853067047075"
      ]
     },
     "execution_count": 255,
     "metadata": {},
     "output_type": "execute_result"
    }
   ],
   "source": [
    "sum(y_predict == y_test) / len(y_test)\n"
   ]
  },
  {
   "cell_type": "code",
   "execution_count": 273,
   "metadata": {},
   "outputs": [],
   "source": [
    "from sklearn.preprocessing import StandardScaler\n",
    "scaler = StandardScaler()\n",
    "scaler.fit(list_imgs)\n",
    "X = scaler.transform(list_imgs)"
   ]
  },
  {
   "cell_type": "code",
   "execution_count": 263,
   "metadata": {},
   "outputs": [
    {
     "data": {
      "text/plain": [
       "0.8185954376648589"
      ]
     },
     "execution_count": 263,
     "metadata": {},
     "output_type": "execute_result"
    }
   ],
   "source": [
    "from sklearn.model_selection import cross_val_score\n",
    "clf = RandomForestClassifier(n_estimators=10)\n",
    "scores = cross_val_score(clf, X, labels, cv=5)\n",
    "scores.mean()"
   ]
  },
  {
   "cell_type": "markdown",
   "metadata": {},
   "source": [
    "# Challenge 4: Deep Learning"
   ]
  },
  {
   "cell_type": "markdown",
   "metadata": {},
   "source": [
    "Input Layer (3 channel image input layer)\n",
    "\n",
    "Convolutional (2D)\n",
    "\n",
    "Max Pooling\n",
    "\n",
    "Convolutional (2D)\n",
    "\n",
    "Max Pooling\n",
    "\n",
    "Dense (Output layer)"
   ]
  },
  {
   "cell_type": "code",
   "execution_count": 284,
   "metadata": {},
   "outputs": [],
   "source": [
    "from sklearn import preprocessing\n",
    "from keras.models import Sequential\n",
    "from keras.layers.convolutional import Conv2D\n",
    "from keras.layers.core import Dense, Dropout\n",
    "from keras.layers.core import Activation\n",
    "from keras.layers.convolutional import MaxPooling2D\n",
    "from keras.utils import to_categorical\n",
    "from keras import optimizers\n",
    "from keras.layers.core import Flatten\n",
    "from keras.callbacks import ModelCheckpoint"
   ]
  },
  {
   "cell_type": "code",
   "execution_count": 295,
   "metadata": {},
   "outputs": [
    {
     "name": "stdout",
     "output_type": "stream",
     "text": [
      "harnesses\n",
      "crampons\n",
      "rope\n",
      "insulated_jackets\n",
      "tents\n",
      "gloves\n",
      "hardshell_jackets\n",
      "carabiners\n",
      "boots\n",
      "axes\n",
      "new\n",
      "pulleys\n",
      "helmets\n",
      "2122\n",
      "2122\n"
     ]
    }
   ],
   "source": [
    "labels = []\n",
    "list_imgs = []\n",
    "for element_type in os.listdir('./resized_img//'):\n",
    "    print(element_type)\n",
    "    files_only = glob.glob('./resized_img//' + element_type + '//*.*')\n",
    "    for pic in files_only:\n",
    "        img = Image.open(pic)\n",
    "        img = np.array(img)\n",
    "        labels.append(element_type)\n",
    "        list_imgs.append(img)\n",
    "            \n",
    "print(len(labels))\n",
    "print(len(list_imgs))"
   ]
  },
  {
   "cell_type": "code",
   "execution_count": 296,
   "metadata": {},
   "outputs": [],
   "source": [
    "lb = preprocessing.LabelBinarizer()\n",
    "lb.fit(labels)\n",
    "y = lb.transform(labels)\n",
    "X = np.array(list_imgs)\n",
    "\n",
    "X_train, X_test, y_train, y_test = train_test_split(X, y, test_size=0.33, random_state=42)"
   ]
  },
  {
   "cell_type": "code",
   "execution_count": 297,
   "metadata": {},
   "outputs": [
    {
     "data": {
      "text/plain": [
       "(1421, 128, 128, 3)"
      ]
     },
     "execution_count": 297,
     "metadata": {},
     "output_type": "execute_result"
    }
   ],
   "source": [
    "X_train.shape"
   ]
  },
  {
   "cell_type": "code",
   "execution_count": null,
   "metadata": {},
   "outputs": [],
   "source": [
    "from keras.utils import to_categorical\n",
    "from keras import models\n",
    "from keras import layers\n",
    "from keras.optimizers import Adam\n",
    "\n",
    "nb_classes = 12\n",
    "\n",
    "model = Sequential()\n",
    "model.add(Conv2D(32, (3, 3), padding='same', activation='relu', input_shape=(128, 128, 3)))\n",
    "model.add(Conv2D(32, (3, 3), activation='relu'))\n",
    "model.add(MaxPooling2D(pool_size=(2, 2)))\n",
    "model.add(Dropout(0.25))\n",
    "\n",
    "model.add(Conv2D(64, (3, 3), padding='same', activation='relu'))\n",
    "model.add(Conv2D(64, (3, 3), activation='relu'))\n",
    "model.add(MaxPooling2D(pool_size=(2, 2)))\n",
    "model.add(Dropout(0.25))\n",
    "\n",
    "model.add(Conv2D(64, (3, 3), padding='same', activation='relu'))\n",
    "model.add(Conv2D(64, (3, 3), activation='relu'))\n",
    "model.add(MaxPooling2D(pool_size=(2, 2)))\n",
    "model.add(Dropout(0.25))\n",
    "\n",
    "model.add(Flatten())\n",
    "model.add(Dense(512, activation='relu'))\n",
    "model.add(Dropout(0.5))\n",
    "model.add(Dense(nb_classes, activation='softmax'))\n",
    "\n",
    "\n",
    "# Adam optimizer\n",
    "opt = Adam(lr=0.001, beta_1=0.9, beta_2=0.999, epsilon=1e-8)\n",
    "\n",
    "# Compile the model\n",
    "model.compile(loss='categorical_crossentropy', optimizer=opt,  metrics=['accuracy'])\n",
    "\n",
    "# Save Best model\n",
    "save_best = ModelCheckpoint('best_model.h5', monitor='val_pred_score', save_best_only=True)\n",
    "\n",
    "model_param = model.fit(X_train, y_train,\n",
    "                                  epochs=30, callbacks=[save_best],\n",
    "                                  validation_data=(X_test, y_test))"
   ]
  }
 ],
 "metadata": {
  "kernelspec": {
   "display_name": "Python [conda env:py35]",
   "language": "python",
   "name": "conda-env-py35-py"
  },
  "language_info": {
   "codemirror_mode": {
    "name": "ipython",
    "version": 3
   },
   "file_extension": ".py",
   "mimetype": "text/x-python",
   "name": "python",
   "nbconvert_exporter": "python",
   "pygments_lexer": "ipython3",
   "version": "3.5.5"
  }
 },
 "nbformat": 4,
 "nbformat_minor": 2
}
